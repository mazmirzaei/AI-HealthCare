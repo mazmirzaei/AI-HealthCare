{
 "cells": [
  {
   "cell_type": "code",
   "execution_count": 1,
   "id": "d51dbc3b-30e2-41d1-b788-26f91719c589",
   "metadata": {},
   "outputs": [],
   "source": [
    "# Import essential libraries\n",
    "import pandas as pd  # For data manipulation and analysis\n",
    "import numpy as np  # For numerical computations\n",
    "from sklearn.model_selection import train_test_split  # To split data into training and test sets\n",
    "from sklearn.preprocessing import StandardScaler  # For scaling features\n",
    "from sklearn.ensemble import RandomForestClassifier  # For Random Forest model\n",
    "from tensorflow.keras.models import Sequential  # To build neural network models\n",
    "from tensorflow.keras.layers import Dense, Dropout  # Layers for neural network\n",
    "from sklearn.metrics import accuracy_score, roc_auc_score, classification_report  # Evaluation metrics\n",
    "import matplotlib.pyplot as plt  # For plotting graphs\n",
    "from sklearn.metrics import classification_report\n",
    "from tensorflow.keras.layers import Input\n"
   ]
  },
  {
   "cell_type": "code",
   "execution_count": 2,
   "id": "27dbc444-e833-406a-b1c0-194058c48a6a",
   "metadata": {},
   "outputs": [
    {
     "name": "stdout",
     "output_type": "stream",
     "text": [
      "Patients table shape: (46520, 8)\n",
      "Admissions table shape: (58976, 19)\n",
      "ICU Stays table shape: (61532, 12)\n",
      "Chart Events table shape: (500000, 15)\n",
      "Lab Events table shape: (500000, 9)\n"
     ]
    }
   ],
   "source": [
    "# Load data tables from the MIMIC-III dataset\n",
    "patients = pd.read_csv('PATIENTS.csv')\n",
    "admissions = pd.read_csv('ADMISSIONS.csv')\n",
    "icustays = pd.read_csv('ICUSTAYS.csv')\n",
    "chartevents = pd.read_csv('CHARTEVENTS.csv', nrows=500000)  # Limit rows for faster loading\n",
    "labevents = pd.read_csv('LABEVENTS.csv', nrows=500000)  # Limit rows for faster loading\n",
    "\n",
    "# Display basic information about each DataFrame\n",
    "print(\"Patients table shape:\", patients.shape)\n",
    "print(\"Admissions table shape:\", admissions.shape)\n",
    "print(\"ICU Stays table shape:\", icustays.shape)\n",
    "print(\"Chart Events table shape:\", chartevents.shape)\n",
    "print(\"Lab Events table shape:\", labevents.shape)\n"
   ]
  },
  {
   "cell_type": "code",
   "execution_count": 3,
   "id": "bb2a0686-e3dc-4247-9ff0-09410e166895",
   "metadata": {},
   "outputs": [
    {
     "name": "stdout",
     "output_type": "stream",
     "text": [
      "Merged data shape: (61532, 36)\n"
     ]
    }
   ],
   "source": [
    "# Merge ICU stay data with admissions and patient data for a complete dataset\n",
    "merged_df = icustays.merge(admissions, on=['SUBJECT_ID', 'HADM_ID'], how='inner') \\\n",
    "                    .merge(patients, on='SUBJECT_ID', how='inner')\n",
    "print(\"Merged data shape:\", merged_df.shape)\n"
   ]
  },
  {
   "cell_type": "code",
   "execution_count": 4,
   "id": "97dab19d-13f4-4779-b44d-e38802d65dc7",
   "metadata": {},
   "outputs": [],
   "source": [
    "# Create a binary sepsis label based on the diagnosis description\n",
    "merged_df['SEPSIS_LABEL'] = merged_df['DIAGNOSIS'].str.contains('sepsis', case=False, na=False).astype(int)\n"
   ]
  },
  {
   "cell_type": "code",
   "execution_count": 5,
   "id": "8e8b9088-840b-4614-98f6-c052fd969301",
   "metadata": {},
   "outputs": [
    {
     "data": {
      "text/html": [
       "<div>\n",
       "<style scoped>\n",
       "    .dataframe tbody tr th:only-of-type {\n",
       "        vertical-align: middle;\n",
       "    }\n",
       "\n",
       "    .dataframe tbody tr th {\n",
       "        vertical-align: top;\n",
       "    }\n",
       "\n",
       "    .dataframe thead th {\n",
       "        text-align: right;\n",
       "    }\n",
       "</style>\n",
       "<table border=\"1\" class=\"dataframe\">\n",
       "  <thead>\n",
       "    <tr style=\"text-align: right;\">\n",
       "      <th></th>\n",
       "      <th>ROW_ID_x</th>\n",
       "      <th>SUBJECT_ID</th>\n",
       "      <th>HADM_ID</th>\n",
       "      <th>ICUSTAY_ID</th>\n",
       "      <th>DBSOURCE</th>\n",
       "      <th>FIRST_CAREUNIT</th>\n",
       "      <th>LAST_CAREUNIT</th>\n",
       "      <th>FIRST_WARDID</th>\n",
       "      <th>LAST_WARDID</th>\n",
       "      <th>INTIME</th>\n",
       "      <th>...</th>\n",
       "      <th>HOSPITAL_EXPIRE_FLAG</th>\n",
       "      <th>HAS_CHARTEVENTS_DATA</th>\n",
       "      <th>ROW_ID</th>\n",
       "      <th>GENDER</th>\n",
       "      <th>DOB</th>\n",
       "      <th>DOD</th>\n",
       "      <th>DOD_HOSP</th>\n",
       "      <th>DOD_SSN</th>\n",
       "      <th>EXPIRE_FLAG</th>\n",
       "      <th>SEPSIS_LABEL</th>\n",
       "    </tr>\n",
       "  </thead>\n",
       "  <tbody>\n",
       "    <tr>\n",
       "      <th>0</th>\n",
       "      <td>365</td>\n",
       "      <td>268</td>\n",
       "      <td>110404</td>\n",
       "      <td>280836</td>\n",
       "      <td>carevue</td>\n",
       "      <td>MICU</td>\n",
       "      <td>MICU</td>\n",
       "      <td>52</td>\n",
       "      <td>52</td>\n",
       "      <td>2198-02-14 23:27:38</td>\n",
       "      <td>...</td>\n",
       "      <td>1</td>\n",
       "      <td>1</td>\n",
       "      <td>251</td>\n",
       "      <td>F</td>\n",
       "      <td>2132-02-21 00:00:00</td>\n",
       "      <td>2198-02-18 00:00:00</td>\n",
       "      <td>2198-02-18 00:00:00</td>\n",
       "      <td>NaN</td>\n",
       "      <td>1</td>\n",
       "      <td>0</td>\n",
       "    </tr>\n",
       "    <tr>\n",
       "      <th>1</th>\n",
       "      <td>366</td>\n",
       "      <td>269</td>\n",
       "      <td>106296</td>\n",
       "      <td>206613</td>\n",
       "      <td>carevue</td>\n",
       "      <td>MICU</td>\n",
       "      <td>MICU</td>\n",
       "      <td>52</td>\n",
       "      <td>52</td>\n",
       "      <td>2170-11-05 11:05:29</td>\n",
       "      <td>...</td>\n",
       "      <td>0</td>\n",
       "      <td>1</td>\n",
       "      <td>252</td>\n",
       "      <td>M</td>\n",
       "      <td>2130-09-30 00:00:00</td>\n",
       "      <td>NaN</td>\n",
       "      <td>NaN</td>\n",
       "      <td>NaN</td>\n",
       "      <td>0</td>\n",
       "      <td>1</td>\n",
       "    </tr>\n",
       "    <tr>\n",
       "      <th>2</th>\n",
       "      <td>367</td>\n",
       "      <td>270</td>\n",
       "      <td>188028</td>\n",
       "      <td>220345</td>\n",
       "      <td>carevue</td>\n",
       "      <td>CCU</td>\n",
       "      <td>CCU</td>\n",
       "      <td>57</td>\n",
       "      <td>57</td>\n",
       "      <td>2128-06-24 15:05:20</td>\n",
       "      <td>...</td>\n",
       "      <td>0</td>\n",
       "      <td>1</td>\n",
       "      <td>253</td>\n",
       "      <td>M</td>\n",
       "      <td>2048-05-26 00:00:00</td>\n",
       "      <td>NaN</td>\n",
       "      <td>NaN</td>\n",
       "      <td>NaN</td>\n",
       "      <td>0</td>\n",
       "      <td>0</td>\n",
       "    </tr>\n",
       "    <tr>\n",
       "      <th>3</th>\n",
       "      <td>368</td>\n",
       "      <td>271</td>\n",
       "      <td>173727</td>\n",
       "      <td>249196</td>\n",
       "      <td>carevue</td>\n",
       "      <td>MICU</td>\n",
       "      <td>SICU</td>\n",
       "      <td>52</td>\n",
       "      <td>23</td>\n",
       "      <td>2120-08-07 23:12:42</td>\n",
       "      <td>...</td>\n",
       "      <td>0</td>\n",
       "      <td>1</td>\n",
       "      <td>254</td>\n",
       "      <td>F</td>\n",
       "      <td>2074-11-30 00:00:00</td>\n",
       "      <td>NaN</td>\n",
       "      <td>NaN</td>\n",
       "      <td>NaN</td>\n",
       "      <td>0</td>\n",
       "      <td>0</td>\n",
       "    </tr>\n",
       "    <tr>\n",
       "      <th>4</th>\n",
       "      <td>369</td>\n",
       "      <td>272</td>\n",
       "      <td>164716</td>\n",
       "      <td>210407</td>\n",
       "      <td>carevue</td>\n",
       "      <td>CCU</td>\n",
       "      <td>CCU</td>\n",
       "      <td>57</td>\n",
       "      <td>57</td>\n",
       "      <td>2186-12-25 21:08:04</td>\n",
       "      <td>...</td>\n",
       "      <td>0</td>\n",
       "      <td>1</td>\n",
       "      <td>255</td>\n",
       "      <td>M</td>\n",
       "      <td>2119-11-21 00:00:00</td>\n",
       "      <td>NaN</td>\n",
       "      <td>NaN</td>\n",
       "      <td>NaN</td>\n",
       "      <td>0</td>\n",
       "      <td>0</td>\n",
       "    </tr>\n",
       "  </tbody>\n",
       "</table>\n",
       "<p>5 rows × 37 columns</p>\n",
       "</div>"
      ],
      "text/plain": [
       "   ROW_ID_x  SUBJECT_ID  HADM_ID  ICUSTAY_ID DBSOURCE FIRST_CAREUNIT  \\\n",
       "0       365         268   110404      280836  carevue           MICU   \n",
       "1       366         269   106296      206613  carevue           MICU   \n",
       "2       367         270   188028      220345  carevue            CCU   \n",
       "3       368         271   173727      249196  carevue           MICU   \n",
       "4       369         272   164716      210407  carevue            CCU   \n",
       "\n",
       "  LAST_CAREUNIT  FIRST_WARDID  LAST_WARDID               INTIME  ...  \\\n",
       "0          MICU            52           52  2198-02-14 23:27:38  ...   \n",
       "1          MICU            52           52  2170-11-05 11:05:29  ...   \n",
       "2           CCU            57           57  2128-06-24 15:05:20  ...   \n",
       "3          SICU            52           23  2120-08-07 23:12:42  ...   \n",
       "4           CCU            57           57  2186-12-25 21:08:04  ...   \n",
       "\n",
       "  HOSPITAL_EXPIRE_FLAG  HAS_CHARTEVENTS_DATA  ROW_ID GENDER  \\\n",
       "0                    1                     1     251      F   \n",
       "1                    0                     1     252      M   \n",
       "2                    0                     1     253      M   \n",
       "3                    0                     1     254      F   \n",
       "4                    0                     1     255      M   \n",
       "\n",
       "                   DOB                  DOD             DOD_HOSP DOD_SSN  \\\n",
       "0  2132-02-21 00:00:00  2198-02-18 00:00:00  2198-02-18 00:00:00     NaN   \n",
       "1  2130-09-30 00:00:00                  NaN                  NaN     NaN   \n",
       "2  2048-05-26 00:00:00                  NaN                  NaN     NaN   \n",
       "3  2074-11-30 00:00:00                  NaN                  NaN     NaN   \n",
       "4  2119-11-21 00:00:00                  NaN                  NaN     NaN   \n",
       "\n",
       "  EXPIRE_FLAG SEPSIS_LABEL  \n",
       "0           1            0  \n",
       "1           0            1  \n",
       "2           0            0  \n",
       "3           0            0  \n",
       "4           0            0  \n",
       "\n",
       "[5 rows x 37 columns]"
      ]
     },
     "execution_count": 5,
     "metadata": {},
     "output_type": "execute_result"
    }
   ],
   "source": [
    "merged_df.head()"
   ]
  },
  {
   "cell_type": "code",
   "execution_count": null,
   "id": "bc4fcbe9-15af-4591-9e1c-035eb094c3ef",
   "metadata": {},
   "outputs": [],
   "source": []
  },
  {
   "cell_type": "markdown",
   "id": "f375cf16-96ad-405b-8194-24ce4f81c956",
   "metadata": {},
   "source": [
    "### Select Indicators of Sepsis"
   ]
  },
  {
   "cell_type": "code",
   "execution_count": 6,
   "id": "7963a5db-6a10-4a6d-afd3-b3d4f55cd650",
   "metadata": {},
   "outputs": [],
   "source": [
    "# Define ITEMIDs relevant to sepsis (adjust as necessary)\n",
    "sepsis_itemids = [220045, 220179, 220180, 220210, 220277, 50983, 50971, 50885]\n"
   ]
  },
  {
   "cell_type": "markdown",
   "id": "5c30518d-dbac-4457-b907-a7bf69f21a46",
   "metadata": {},
   "source": [
    "### Filter Data for the First 24 Hours of ICU Stay"
   ]
  },
  {
   "cell_type": "code",
   "execution_count": 7,
   "id": "d099376f-c946-4a10-8f8a-099856b0c7bf",
   "metadata": {},
   "outputs": [
    {
     "name": "stdout",
     "output_type": "stream",
     "text": [
      "Datetime conversion test passed!\n"
     ]
    }
   ],
   "source": [
    "# Convert CHARTTIME and INTIME to datetime format\n",
    "chartevents['CHARTTIME'] = pd.to_datetime(chartevents['CHARTTIME'])\n",
    "icustays['INTIME'] = pd.to_datetime(icustays['INTIME'])\n",
    "\n",
    "# Test: Confirm the column types are datetime\n",
    "assert pd.api.types.is_datetime64_any_dtype(chartevents['CHARTTIME']), \"CHARTTIME column is not datetime\"\n",
    "assert pd.api.types.is_datetime64_any_dtype(icustays['INTIME']), \"INTIME column is not datetime\"\n",
    "print(\"Datetime conversion test passed!\")"
   ]
  },
  {
   "cell_type": "code",
   "execution_count": 8,
   "id": "ba58e336-57a7-4652-b014-b1571bfc7ad6",
   "metadata": {},
   "outputs": [
    {
     "name": "stdout",
     "output_type": "stream",
     "text": [
      "24-hour filter test passed!\n"
     ]
    }
   ],
   "source": [
    "# Merge chart events with ICU stay start times to calculate elapsed time\n",
    "merged_chartevents = chartevents.merge(icustays[['ICUSTAY_ID', 'INTIME']], on='ICUSTAY_ID', how='inner')\n",
    "chartevents_24hr = merged_chartevents[merged_chartevents['CHARTTIME'] <= merged_chartevents['INTIME'] + pd.Timedelta(hours=24)]\n",
    "\n",
    "# Test: Confirm all times in chartevents_24hr are within 24 hours of INTIME\n",
    "assert (chartevents_24hr['CHARTTIME'] - chartevents_24hr['INTIME']).dt.total_seconds().max() <= 24 * 3600, \"Some records are beyond 24 hours\"\n",
    "print(\"24-hour filter test passed!\")\n"
   ]
  },
  {
   "cell_type": "markdown",
   "id": "9e5b7f54-293e-4aa3-bc87-2e45169f6786",
   "metadata": {},
   "source": [
    "### Aggregate Vital Signs"
   ]
  },
  {
   "cell_type": "code",
   "execution_count": 9,
   "id": "dd2fa8d3-99b5-43ff-9785-1c0b089e4ebb",
   "metadata": {},
   "outputs": [
    {
     "name": "stdout",
     "output_type": "stream",
     "text": [
      "Unique ITEMIDs in filtered data: [220045 220179 220180 220210 220277]\n",
      "Expected ITEMIDs: [220045, 220179, 220180, 220210, 220277, 50983, 50971, 50885]\n",
      "Columns after aggregation: Index(['mean_220045', 'mean_220179', 'mean_220180', 'mean_220210',\n",
      "       'mean_220277', 'max_220045', 'max_220179', 'max_220180', 'max_220210',\n",
      "       'max_220277', 'min_220045', 'min_220179', 'min_220180', 'min_220210',\n",
      "       'min_220277'],\n",
      "      dtype='object')\n",
      "Final Sepsis Features DataFrame with Filled Missing Columns:\n"
     ]
    },
    {
     "data": {
      "text/html": [
       "<div>\n",
       "<style scoped>\n",
       "    .dataframe tbody tr th:only-of-type {\n",
       "        vertical-align: middle;\n",
       "    }\n",
       "\n",
       "    .dataframe tbody tr th {\n",
       "        vertical-align: top;\n",
       "    }\n",
       "\n",
       "    .dataframe thead th {\n",
       "        text-align: right;\n",
       "    }\n",
       "</style>\n",
       "<table border=\"1\" class=\"dataframe\">\n",
       "  <thead>\n",
       "    <tr style=\"text-align: right;\">\n",
       "      <th></th>\n",
       "      <th>ICUSTAY_ID</th>\n",
       "      <th>mean_220045</th>\n",
       "      <th>max_220045</th>\n",
       "      <th>min_220045</th>\n",
       "      <th>mean_220179</th>\n",
       "      <th>max_220179</th>\n",
       "      <th>min_220179</th>\n",
       "      <th>mean_220180</th>\n",
       "      <th>max_220180</th>\n",
       "      <th>min_220180</th>\n",
       "      <th>...</th>\n",
       "      <th>min_220277</th>\n",
       "      <th>mean_50983</th>\n",
       "      <th>max_50983</th>\n",
       "      <th>min_50983</th>\n",
       "      <th>mean_50971</th>\n",
       "      <th>max_50971</th>\n",
       "      <th>min_50971</th>\n",
       "      <th>mean_50885</th>\n",
       "      <th>max_50885</th>\n",
       "      <th>min_50885</th>\n",
       "    </tr>\n",
       "  </thead>\n",
       "  <tbody>\n",
       "    <tr>\n",
       "      <th>0</th>\n",
       "      <td>200563.0</td>\n",
       "      <td>96.360000</td>\n",
       "      <td>108.0</td>\n",
       "      <td>87.0</td>\n",
       "      <td>129.631579</td>\n",
       "      <td>153.0</td>\n",
       "      <td>107.0</td>\n",
       "      <td>79.684211</td>\n",
       "      <td>101.0</td>\n",
       "      <td>62.0</td>\n",
       "      <td>...</td>\n",
       "      <td>96.0</td>\n",
       "      <td>0</td>\n",
       "      <td>0</td>\n",
       "      <td>0</td>\n",
       "      <td>0</td>\n",
       "      <td>0</td>\n",
       "      <td>0</td>\n",
       "      <td>0</td>\n",
       "      <td>0</td>\n",
       "      <td>0</td>\n",
       "    </tr>\n",
       "    <tr>\n",
       "      <th>1</th>\n",
       "      <td>200566.0</td>\n",
       "      <td>71.000000</td>\n",
       "      <td>84.0</td>\n",
       "      <td>59.0</td>\n",
       "      <td>129.333333</td>\n",
       "      <td>168.0</td>\n",
       "      <td>88.0</td>\n",
       "      <td>50.000000</td>\n",
       "      <td>72.0</td>\n",
       "      <td>31.0</td>\n",
       "      <td>...</td>\n",
       "      <td>96.0</td>\n",
       "      <td>0</td>\n",
       "      <td>0</td>\n",
       "      <td>0</td>\n",
       "      <td>0</td>\n",
       "      <td>0</td>\n",
       "      <td>0</td>\n",
       "      <td>0</td>\n",
       "      <td>0</td>\n",
       "      <td>0</td>\n",
       "    </tr>\n",
       "    <tr>\n",
       "      <th>2</th>\n",
       "      <td>200603.0</td>\n",
       "      <td>80.416667</td>\n",
       "      <td>82.0</td>\n",
       "      <td>80.0</td>\n",
       "      <td>88.769231</td>\n",
       "      <td>105.0</td>\n",
       "      <td>77.0</td>\n",
       "      <td>44.692308</td>\n",
       "      <td>51.0</td>\n",
       "      <td>38.0</td>\n",
       "      <td>...</td>\n",
       "      <td>87.0</td>\n",
       "      <td>0</td>\n",
       "      <td>0</td>\n",
       "      <td>0</td>\n",
       "      <td>0</td>\n",
       "      <td>0</td>\n",
       "      <td>0</td>\n",
       "      <td>0</td>\n",
       "      <td>0</td>\n",
       "      <td>0</td>\n",
       "    </tr>\n",
       "    <tr>\n",
       "      <th>3</th>\n",
       "      <td>200746.0</td>\n",
       "      <td>96.032258</td>\n",
       "      <td>111.0</td>\n",
       "      <td>86.0</td>\n",
       "      <td>120.400000</td>\n",
       "      <td>133.0</td>\n",
       "      <td>102.0</td>\n",
       "      <td>77.100000</td>\n",
       "      <td>91.0</td>\n",
       "      <td>60.0</td>\n",
       "      <td>...</td>\n",
       "      <td>80.0</td>\n",
       "      <td>0</td>\n",
       "      <td>0</td>\n",
       "      <td>0</td>\n",
       "      <td>0</td>\n",
       "      <td>0</td>\n",
       "      <td>0</td>\n",
       "      <td>0</td>\n",
       "      <td>0</td>\n",
       "      <td>0</td>\n",
       "    </tr>\n",
       "    <tr>\n",
       "      <th>4</th>\n",
       "      <td>200806.0</td>\n",
       "      <td>68.911765</td>\n",
       "      <td>84.0</td>\n",
       "      <td>55.0</td>\n",
       "      <td>110.911765</td>\n",
       "      <td>164.0</td>\n",
       "      <td>71.0</td>\n",
       "      <td>53.764706</td>\n",
       "      <td>120.0</td>\n",
       "      <td>30.0</td>\n",
       "      <td>...</td>\n",
       "      <td>79.0</td>\n",
       "      <td>0</td>\n",
       "      <td>0</td>\n",
       "      <td>0</td>\n",
       "      <td>0</td>\n",
       "      <td>0</td>\n",
       "      <td>0</td>\n",
       "      <td>0</td>\n",
       "      <td>0</td>\n",
       "      <td>0</td>\n",
       "    </tr>\n",
       "  </tbody>\n",
       "</table>\n",
       "<p>5 rows × 25 columns</p>\n",
       "</div>"
      ],
      "text/plain": [
       "   ICUSTAY_ID  mean_220045  max_220045  min_220045  mean_220179  max_220179  \\\n",
       "0    200563.0    96.360000       108.0        87.0   129.631579       153.0   \n",
       "1    200566.0    71.000000        84.0        59.0   129.333333       168.0   \n",
       "2    200603.0    80.416667        82.0        80.0    88.769231       105.0   \n",
       "3    200746.0    96.032258       111.0        86.0   120.400000       133.0   \n",
       "4    200806.0    68.911765        84.0        55.0   110.911765       164.0   \n",
       "\n",
       "   min_220179  mean_220180  max_220180  min_220180  ...  min_220277  \\\n",
       "0       107.0    79.684211       101.0        62.0  ...        96.0   \n",
       "1        88.0    50.000000        72.0        31.0  ...        96.0   \n",
       "2        77.0    44.692308        51.0        38.0  ...        87.0   \n",
       "3       102.0    77.100000        91.0        60.0  ...        80.0   \n",
       "4        71.0    53.764706       120.0        30.0  ...        79.0   \n",
       "\n",
       "   mean_50983  max_50983  min_50983  mean_50971  max_50971  min_50971  \\\n",
       "0           0          0          0           0          0          0   \n",
       "1           0          0          0           0          0          0   \n",
       "2           0          0          0           0          0          0   \n",
       "3           0          0          0           0          0          0   \n",
       "4           0          0          0           0          0          0   \n",
       "\n",
       "   mean_50885  max_50885  min_50885  \n",
       "0           0          0          0  \n",
       "1           0          0          0  \n",
       "2           0          0          0  \n",
       "3           0          0          0  \n",
       "4           0          0          0  \n",
       "\n",
       "[5 rows x 25 columns]"
      ]
     },
     "execution_count": 9,
     "metadata": {},
     "output_type": "execute_result"
    }
   ],
   "source": [
    "# Filter for relevant sepsis-related ITEMIDs\n",
    "filtered_sepsis_vitals = chartevents_24hr[chartevents_24hr['ITEMID'].isin(sepsis_itemids)]\n",
    "\n",
    "# Aggregate statistics for mean, max, and min values\n",
    "sepsis_agg = (\n",
    "    filtered_sepsis_vitals.groupby(['ICUSTAY_ID', 'ITEMID'])['VALUENUM']\n",
    "    .agg(['mean', 'max', 'min'])\n",
    "    .unstack(fill_value=0)\n",
    ")\n",
    "\n",
    "# Flatten the multi-level columns by concatenating statistics and ITEMID\n",
    "sepsis_agg.columns = [f\"{stat}_{itemid}\" for stat, itemid in sepsis_agg.columns]\n",
    "\n",
    "# Diagnostic: Check which ITEMIDs are present and the column names\n",
    "print(\"Unique ITEMIDs in filtered data:\", filtered_sepsis_vitals['ITEMID'].unique())\n",
    "print(\"Expected ITEMIDs:\", sepsis_itemids)\n",
    "print(\"Columns after aggregation:\", sepsis_agg.columns)\n",
    "\n",
    "# Define all expected columns based on `sepsis_itemids`\n",
    "expected_columns = [f\"{stat}_{itemid}\" for itemid in sepsis_itemids for stat in ['mean', 'max', 'min']]\n",
    "\n",
    "# Reindex `sepsis_agg` to ensure all expected columns are present, filling missing ones with 0\n",
    "sepsis_features = sepsis_agg.reindex(columns=expected_columns, fill_value=0).reset_index()\n",
    "\n",
    "# Adjust the assertion to verify that the final columns match the expected set\n",
    "assert set(sepsis_features.columns) == set(['ICUSTAY_ID'] + expected_columns), \\\n",
    "    \"Warning: Some expected ITEMIDs are missing from the final features.\"\n",
    "\n",
    "# Display the first few rows of the final features\n",
    "print(\"Final Sepsis Features DataFrame with Filled Missing Columns:\")\n",
    "sepsis_features.head()\n"
   ]
  },
  {
   "cell_type": "markdown",
   "id": "9a2e6b1f-79f6-4280-9c32-6110a5977d4f",
   "metadata": {},
   "source": [
    "### Prepare Data for Training"
   ]
  },
  {
   "cell_type": "code",
   "execution_count": 18,
   "id": "31d5937e-573a-4b5b-8756-afff6a0d8f4c",
   "metadata": {},
   "outputs": [],
   "source": [
    "# Assuming 'SEPSIS_LABEL' is a column in merged_df for labeling cases of sepsis\n",
    "X = sepsis_features.drop(columns=['ICUSTAY_ID']).values\n",
    "y = merged_df.set_index('ICUSTAY_ID').loc[sepsis_features['ICUSTAY_ID'], 'SEPSIS_LABEL'].values\n",
    "\n",
    "# Split data into training and test sets\n",
    "X_train, X_test, y_train, y_test = train_test_split(X, y, test_size=0.3, random_state=42)\n",
    "\n",
    "# Standardize the feature data for neural network training\n",
    "scaler = StandardScaler()\n",
    "X_train_scaled = scaler.fit_transform(X_train)\n",
    "X_test_scaled = scaler.transform(X_test)\n",
    "\n"
   ]
  },
  {
   "cell_type": "markdown",
   "id": "0d0e87d8-62cb-4fb5-9765-3fd5aa697d4e",
   "metadata": {},
   "source": [
    "### Train Random Forest Models"
   ]
  },
  {
   "cell_type": "code",
   "execution_count": null,
   "id": "31b8ba2f-1574-4766-b2b9-2622fbcc083d",
   "metadata": {},
   "outputs": [],
   "source": [
    "# Train the Random Forest model\n",
    "rf_model = RandomForestClassifier(n_estimators=100, random_state=42)\n",
    "rf_model.fit(X_train, y_train)\n"
   ]
  },
  {
   "cell_type": "markdown",
   "id": "6f1a2535-e74b-422c-ad2d-959a4e8bd665",
   "metadata": {},
   "source": [
    "### Train FCNN Model"
   ]
  },
  {
   "cell_type": "code",
   "execution_count": 33,
   "id": "21b0d729-3cde-4f1c-98ac-8247073861ca",
   "metadata": {},
   "outputs": [
    {
     "name": "stdout",
     "output_type": "stream",
     "text": [
      "Epoch 1/20\n",
      "\u001b[1m6/6\u001b[0m \u001b[32m━━━━━━━━━━━━━━━━━━━━\u001b[0m\u001b[37m\u001b[0m \u001b[1m0s\u001b[0m 11ms/step - accuracy: 0.7737 - loss: 0.6040 - val_accuracy: 0.9645 - val_loss: 0.5501\n",
      "Epoch 2/20\n",
      "\u001b[1m6/6\u001b[0m \u001b[32m━━━━━━━━━━━━━━━━━━━━\u001b[0m\u001b[37m\u001b[0m \u001b[1m0s\u001b[0m 2ms/step - accuracy: 0.9036 - loss: 0.5160 - val_accuracy: 0.9645 - val_loss: 0.4553\n",
      "Epoch 3/20\n",
      "\u001b[1m6/6\u001b[0m \u001b[32m━━━━━━━━━━━━━━━━━━━━\u001b[0m\u001b[37m\u001b[0m \u001b[1m0s\u001b[0m 3ms/step - accuracy: 0.9333 - loss: 0.4229 - val_accuracy: 0.9645 - val_loss: 0.3633\n",
      "Epoch 4/20\n",
      "\u001b[1m6/6\u001b[0m \u001b[32m━━━━━━━━━━━━━━━━━━━━\u001b[0m\u001b[37m\u001b[0m \u001b[1m0s\u001b[0m 3ms/step - accuracy: 0.9281 - loss: 0.3501 - val_accuracy: 0.9645 - val_loss: 0.2935\n",
      "Epoch 5/20\n",
      "\u001b[1m6/6\u001b[0m \u001b[32m━━━━━━━━━━━━━━━━━━━━\u001b[0m\u001b[37m\u001b[0m \u001b[1m0s\u001b[0m 2ms/step - accuracy: 0.9443 - loss: 0.2936 - val_accuracy: 0.9645 - val_loss: 0.2614\n",
      "Epoch 6/20\n",
      "\u001b[1m6/6\u001b[0m \u001b[32m━━━━━━━━━━━━━━━━━━━━\u001b[0m\u001b[37m\u001b[0m \u001b[1m0s\u001b[0m 2ms/step - accuracy: 0.9380 - loss: 0.2960 - val_accuracy: 0.9645 - val_loss: 0.2549\n",
      "Epoch 7/20\n",
      "\u001b[1m6/6\u001b[0m \u001b[32m━━━━━━━━━━━━━━━━━━━━\u001b[0m\u001b[37m\u001b[0m \u001b[1m0s\u001b[0m 2ms/step - accuracy: 0.9454 - loss: 0.2115 - val_accuracy: 0.9645 - val_loss: 0.2580\n",
      "Epoch 8/20\n",
      "\u001b[1m6/6\u001b[0m \u001b[32m━━━━━━━━━━━━━━━━━━━━\u001b[0m\u001b[37m\u001b[0m \u001b[1m0s\u001b[0m 3ms/step - accuracy: 0.9406 - loss: 0.2119 - val_accuracy: 0.9645 - val_loss: 0.2627\n",
      "Epoch 9/20\n",
      "\u001b[1m6/6\u001b[0m \u001b[32m━━━━━━━━━━━━━━━━━━━━\u001b[0m\u001b[37m\u001b[0m \u001b[1m0s\u001b[0m 2ms/step - accuracy: 0.9398 - loss: 0.2372 - val_accuracy: 0.9645 - val_loss: 0.2611\n",
      "Epoch 10/20\n",
      "\u001b[1m6/6\u001b[0m \u001b[32m━━━━━━━━━━━━━━━━━━━━\u001b[0m\u001b[37m\u001b[0m \u001b[1m0s\u001b[0m 2ms/step - accuracy: 0.9403 - loss: 0.2316 - val_accuracy: 0.9645 - val_loss: 0.2559\n",
      "Epoch 11/20\n",
      "\u001b[1m6/6\u001b[0m \u001b[32m━━━━━━━━━━━━━━━━━━━━\u001b[0m\u001b[37m\u001b[0m \u001b[1m0s\u001b[0m 2ms/step - accuracy: 0.9382 - loss: 0.2870 - val_accuracy: 0.9645 - val_loss: 0.2424\n",
      "Epoch 12/20\n",
      "\u001b[1m6/6\u001b[0m \u001b[32m━━━━━━━━━━━━━━━━━━━━\u001b[0m\u001b[37m\u001b[0m \u001b[1m0s\u001b[0m 2ms/step - accuracy: 0.9367 - loss: 0.2565 - val_accuracy: 0.9645 - val_loss: 0.2340\n",
      "Epoch 13/20\n",
      "\u001b[1m6/6\u001b[0m \u001b[32m━━━━━━━━━━━━━━━━━━━━\u001b[0m\u001b[37m\u001b[0m \u001b[1m0s\u001b[0m 2ms/step - accuracy: 0.9358 - loss: 0.2483 - val_accuracy: 0.9645 - val_loss: 0.2304\n",
      "Epoch 14/20\n",
      "\u001b[1m6/6\u001b[0m \u001b[32m━━━━━━━━━━━━━━━━━━━━\u001b[0m\u001b[37m\u001b[0m \u001b[1m0s\u001b[0m 3ms/step - accuracy: 0.9358 - loss: 0.2114 - val_accuracy: 0.9645 - val_loss: 0.2300\n",
      "Epoch 15/20\n",
      "\u001b[1m6/6\u001b[0m \u001b[32m━━━━━━━━━━━━━━━━━━━━\u001b[0m\u001b[37m\u001b[0m \u001b[1m0s\u001b[0m 2ms/step - accuracy: 0.9325 - loss: 0.2498 - val_accuracy: 0.9645 - val_loss: 0.2291\n",
      "Epoch 16/20\n",
      "\u001b[1m6/6\u001b[0m \u001b[32m━━━━━━━━━━━━━━━━━━━━\u001b[0m\u001b[37m\u001b[0m \u001b[1m0s\u001b[0m 2ms/step - accuracy: 0.9168 - loss: 0.2682 - val_accuracy: 0.9645 - val_loss: 0.2282\n",
      "Epoch 17/20\n",
      "\u001b[1m6/6\u001b[0m \u001b[32m━━━━━━━━━━━━━━━━━━━━\u001b[0m\u001b[37m\u001b[0m \u001b[1m0s\u001b[0m 2ms/step - accuracy: 0.9395 - loss: 0.2392 - val_accuracy: 0.9645 - val_loss: 0.2266\n",
      "Epoch 18/20\n",
      "\u001b[1m6/6\u001b[0m \u001b[32m━━━━━━━━━━━━━━━━━━━━\u001b[0m\u001b[37m\u001b[0m \u001b[1m0s\u001b[0m 2ms/step - accuracy: 0.9294 - loss: 0.2392 - val_accuracy: 0.9645 - val_loss: 0.2231\n",
      "Epoch 19/20\n",
      "\u001b[1m6/6\u001b[0m \u001b[32m━━━━━━━━━━━━━━━━━━━━\u001b[0m\u001b[37m\u001b[0m \u001b[1m0s\u001b[0m 3ms/step - accuracy: 0.9399 - loss: 0.2000 - val_accuracy: 0.9645 - val_loss: 0.2234\n",
      "Epoch 20/20\n",
      "\u001b[1m6/6\u001b[0m \u001b[32m━━━━━━━━━━━━━━━━━━━━\u001b[0m\u001b[37m\u001b[0m \u001b[1m0s\u001b[0m 2ms/step - accuracy: 0.9503 - loss: 0.1738 - val_accuracy: 0.9645 - val_loss: 0.2252\n"
     ]
    }
   ],
   "source": [
    "# Define and train a 5-layer Fully Connected Neural Network (FCNN)\n",
    "fcnn_model = Sequential([\n",
    "    Input(shape=(X_train_scaled.shape[1],)),  # Define input layer explicitly\n",
    "    Dense(128, activation='relu'),           # First hidden layer\n",
    "    Dropout(0.3),                            # Dropout for regularization\n",
    "    Dense(64, activation='relu'),            # Second hidden layer\n",
    "    Dropout(0.3),                            # Dropout for regularization\n",
    "    Dense(32, activation='relu'),            # Third hidden layer (new layer)\n",
    "    Dropout(0.3),                            # Dropout for regularization\n",
    "    Dense(16, activation='relu'),            # Fourth hidden layer (new layer)\n",
    "    Dropout(0.3),                            # Dropout for regularization\n",
    "    Dense(1, activation='sigmoid')           # Output layer for binary classification\n",
    "])\n",
    "\n",
    "# Compile the model\n",
    "fcnn_model.compile(optimizer='adam', loss='binary_crossentropy', metrics=['accuracy'])\n",
    "\n",
    "# Train the model\n",
    "history = fcnn_model.fit(X_train_scaled, y_train, epochs=20, validation_data=(X_test_scaled, y_test), batch_size=64)\n",
    "\n"
   ]
  },
  {
   "cell_type": "code",
   "execution_count": 34,
   "id": "25e58cd3-f6c6-425d-8d80-13405ef8a113",
   "metadata": {},
   "outputs": [
    {
     "name": "stdout",
     "output_type": "stream",
     "text": [
      "\u001b[1m5/5\u001b[0m \u001b[32m━━━━━━━━━━━━━━━━━━━━\u001b[0m\u001b[37m\u001b[0m \u001b[1m0s\u001b[0m 5ms/step \n",
      "\u001b[1m5/5\u001b[0m \u001b[32m━━━━━━━━━━━━━━━━━━━━\u001b[0m\u001b[37m\u001b[0m \u001b[1m0s\u001b[0m 518us/step\n",
      "Random Forest - Accuracy: 0.9645390070921985 AUC-ROC: 0.7235294117647059\n",
      "FCNN - Accuracy: 0.9645390070921985 AUC-ROC: 0.39705882352941174\n"
     ]
    }
   ],
   "source": [
    "# Evaluate the Random Forest model\n",
    "y_pred_rf = rf_model.predict(X_test)\n",
    "rf_accuracy = accuracy_score(y_test, y_pred_rf)\n",
    "rf_auc = roc_auc_score(y_test, rf_model.predict_proba(X_test)[:, 1])\n",
    "\n",
    "# Evaluate the FCNN model\n",
    "y_pred_fcnn = (fcnn_model.predict(X_test_scaled) > 0.5).astype(\"int32\")\n",
    "fcnn_accuracy = accuracy_score(y_test, y_pred_fcnn)\n",
    "fcnn_auc = roc_auc_score(y_test, fcnn_model.predict(X_test_scaled))\n",
    "\n",
    "# Print evaluation metrics\n",
    "print(\"Random Forest - Accuracy:\", rf_accuracy, \"AUC-ROC:\", rf_auc)\n",
    "print(\"FCNN - Accuracy:\", fcnn_accuracy, \"AUC-ROC:\", fcnn_auc)\n"
   ]
  },
  {
   "cell_type": "markdown",
   "id": "b447352a-ddea-4c8f-b576-f1660bc4a498",
   "metadata": {},
   "source": [
    "### Visualize Training Performance"
   ]
  },
  {
   "cell_type": "code",
   "execution_count": 35,
   "id": "d9690a47-3fc1-4222-9357-a275a0f2ca92",
   "metadata": {},
   "outputs": [
    {
     "name": "stdout",
     "output_type": "stream",
     "text": [
      "Available keys in history: dict_keys(['accuracy', 'loss', 'val_accuracy', 'val_loss'])\n"
     ]
    },
    {
     "data": {
      "image/png": "[encoded data removed]",
      "text/plain": [
       "<Figure size 640x480 with 1 Axes>"
      ]
     },
     "metadata": {},
     "output_type": "display_data"
    },
    {
     "data": {
      "image/png": "[encoded data removed]",
      "text/plain": [
       "<Figure size 640x480 with 1 Axes>"
      ]
     },
     "metadata": {},
     "output_type": "display_data"
    }
   ],
   "source": [
    "# Plot training and validation accuracy for FCNN\n",
    "# Print available keys in history to confirm accuracy key presence\n",
    "print(\"Available keys in history:\", history.history.keys())\n",
    "\n",
    "# Plot training and validation accuracy for FCNN\n",
    "plt.plot(history.history.get('accuracy', []), label='Train Accuracy')\n",
    "plt.plot(history.history.get('val_accuracy', []), label='Validation Accuracy')\n",
    "plt.xlabel('Epochs')\n",
    "plt.ylabel('Accuracy')\n",
    "plt.legend()\n",
    "plt.title(\"FCNN Training and Validation Accuracy\")\n",
    "plt.show()\n",
    "\n",
    "# Plot training and validation loss for FCNN\n",
    "plt.plot(history.history['loss'], label='Train Loss')\n",
    "plt.plot(history.history['val_loss'], label='Validation Loss')\n",
    "plt.xlabel('Epochs')\n",
    "plt.ylabel('Loss')\n",
    "plt.legend()\n",
    "plt.title(\"FCNN Training and Validation Loss\")\n",
    "plt.show()"
   ]
  },
  {
   "cell_type": "code",
   "execution_count": 32,
   "id": "38efd4e4-4a2a-442c-b0ba-6d2c0c00bb3d",
   "metadata": {},
   "outputs": [
    {
     "data": {
      "image/png": "[encoded data removed]",
      "text/plain": [
       "<Figure size 800x600 with 1 Axes>"
      ]
     },
     "metadata": {},
     "output_type": "display_data"
    }
   ],
   "source": [
    "from sklearn.metrics import roc_curve, auc\n",
    "\n",
    "# Get probabilities for positive class (sepsis)\n",
    "y_proba_rf = rf_model.predict_proba(X_test)[:, 1]\n",
    "\n",
    "# Compute ROC curve and AUC\n",
    "fpr_rf, tpr_rf, _ = roc_curve(y_test, y_proba_rf)\n",
    "roc_auc_rf = auc(fpr_rf, tpr_rf)\n",
    "\n",
    "# Plot ROC curve\n",
    "plt.figure(figsize=(8, 6))\n",
    "plt.plot(fpr_rf, tpr_rf, color='blue', label=f'Random Forest (AUC = {roc_auc_rf:.2f})')\n",
    "plt.plot([0, 1], [0, 1], color='gray', linestyle='--')\n",
    "plt.xlabel('False Positive Rate')\n",
    "plt.ylabel('True Positive Rate')\n",
    "plt.title('Random Forest ROC Curve')\n",
    "plt.legend(loc='lower right')\n",
    "plt.show()\n"
   ]
  },
  {
   "cell_type": "code",
   "execution_count": 30,
   "id": "22b72c93-0593-48bc-9dca-7e230c52cea6",
   "metadata": {},
   "outputs": [
    {
     "name": "stdout",
     "output_type": "stream",
     "text": [
      "Model Performance Summary\n",
      "-------------------------\n",
      "Random Forest - Accuracy: 0.9645390070921985 | AUC-ROC: 0.7235294117647059\n",
      "FCNN - Accuracy: 0.9645390070921985 | AUC-ROC: 0.3588235294117647\n"
     ]
    }
   ],
   "source": [
    "print(\"Model Performance Summary\")\n",
    "print(\"-------------------------\")\n",
    "print(\"Random Forest - Accuracy:\", rf_accuracy, \"| AUC-ROC:\", rf_auc)\n",
    "print(\"FCNN - Accuracy:\", fcnn_accuracy, \"| AUC-ROC:\", fcnn_auc)\n"
   ]
  },
  {
   "cell_type": "code",
   "execution_count": null,
   "id": "1ce30588-85c3-429d-bb8f-b63f250c57f4",
   "metadata": {},
   "outputs": [],
   "source": []
  }
 ],
 "metadata": {
  "kernelspec": {
   "display_name": "Python 3 (ipykernel)",
   "language": "python",
   "name": "python3"
  },
  "language_info": {
   "codemirror_mode": {
    "name": "ipython",
    "version": 3
   },
   "file_extension": ".py",
   "mimetype": "text/x-python",
   "name": "python",
   "nbconvert_exporter": "python",
   "pygments_lexer": "ipython3",
   "version": "3.12.4"
  }
 },
 "nbformat": 4,
 "nbformat_minor": 5
}
