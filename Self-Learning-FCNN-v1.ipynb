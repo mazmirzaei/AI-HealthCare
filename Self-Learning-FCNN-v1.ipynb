{
 "cells": [
  {
   "cell_type": "markdown",
   "id": "25409451-7334-415b-b568-e11089ac9e0a",
   "metadata": {},
   "source": [
    " ## Data Loading"
   ]
  },
  {
   "cell_type": "markdown",
   "id": "b1acc65b-2cae-4d6d-b369-6c67c4e037c6",
   "metadata": {},
   "source": [
    "We Start by loading the necessary tables from CSV files. we make sure to set low_memory=False when reading large files to handle memory efficiently."
   ]
  },
  {
   "cell_type": "code",
   "execution_count": 16,
   "id": "0cdf517d-9bc3-4865-a95f-009dd29949af",
   "metadata": {},
   "outputs": [],
   "source": [
    "import pandas as pd\n",
    "import numpy as np \n",
    "from sklearn.model_selection import train_test_split\n",
    "from sklearn.preprocessing import MinMaxScaler\n",
    "from tensorflow.keras.models import Sequential\n",
    "from tensorflow.keras.layers import LSTM, Dense, Dropout\n",
    "import matplotlib.pyplot as plt"
   ]
  },
  {
   "cell_type": "code",
   "execution_count": 3,
   "id": "80e48cd6-e312-45ca-84d9-ce36725bba09",
   "metadata": {},
   "outputs": [],
   "source": [
    "# Load necessary tables\n",
    "patients = pd.read_csv('PATIENTS.csv', low_memory=False)\n",
    "admissions = pd.read_csv('ADMISSIONS.csv', low_memory=False)\n",
    "icustays = pd.read_csv('ICUSTAYS.csv', low_memory=False)\n",
    "chartevents = pd.read_csv('CHARTEVENTS.csv', low_memory=False)\n",
    "labevents = pd.read_csv('LABEVENTS.csv', low_memory=False)\n"
   ]
  },
  {
   "cell_type": "code",
   "execution_count": 71,
   "id": "3345baa8-4c33-44fc-bd5b-d532fd851ce1",
   "metadata": {},
   "outputs": [
    {
     "name": "stdout",
     "output_type": "stream",
     "text": [
      "Index(['ROW_ID', 'SUBJECT_ID', 'GENDER', 'DOB', 'DOD', 'DOD_HOSP', 'DOD_SSN',\n",
      "       'EXPIRE_FLAG'],\n",
      "      dtype='object')\n",
      "Index(['ROW_ID', 'SUBJECT_ID', 'HADM_ID', 'ADMITTIME', 'DISCHTIME',\n",
      "       'DEATHTIME', 'ADMISSION_TYPE', 'ADMISSION_LOCATION',\n",
      "       'DISCHARGE_LOCATION', 'INSURANCE', 'LANGUAGE', 'RELIGION',\n",
      "       'MARITAL_STATUS', 'ETHNICITY', 'EDREGTIME', 'EDOUTTIME', 'DIAGNOSIS',\n",
      "       'HOSPITAL_EXPIRE_FLAG', 'HAS_CHARTEVENTS_DATA'],\n",
      "      dtype='object')\n",
      "Index(['ROW_ID', 'SUBJECT_ID', 'HADM_ID', 'ICUSTAY_ID', 'DBSOURCE',\n",
      "       'FIRST_CAREUNIT', 'LAST_CAREUNIT', 'FIRST_WARDID', 'LAST_WARDID',\n",
      "       'INTIME', 'OUTTIME', 'LOS'],\n",
      "      dtype='object')\n",
      "Index(['ROW_ID', 'SUBJECT_ID', 'HADM_ID', 'ICUSTAY_ID', 'ITEMID', 'CHARTTIME',\n",
      "       'STORETIME', 'CGID', 'VALUE', 'VALUENUM', 'VALUEUOM', 'WARNING',\n",
      "       'ERROR', 'RESULTSTATUS', 'STOPPED'],\n",
      "      dtype='object')\n",
      "Index(['ROW_ID', 'SUBJECT_ID', 'HADM_ID', 'ITEMID', 'CHARTTIME', 'VALUE',\n",
      "       'VALUENUM', 'VALUEUOM', 'FLAG'],\n",
      "      dtype='object')\n"
     ]
    }
   ],
   "source": [
    "print(patients.columns)\n",
    "print(admissions.columns)\n",
    "print(icustays.columns)\n",
    "print(chartevents.columns)\n",
    "print(labevents.columns)"
   ]
  },
  {
   "cell_type": "markdown",
   "id": "447b086e-47cd-48ef-8b49-7f4e14e83048",
   "metadata": {},
   "source": [
    "## Data Preprocessing\n"
   ]
  },
  {
   "cell_type": "markdown",
   "id": "1247aec5-e5d7-4e80-a5e5-3b5bf336c742",
   "metadata": {},
   "source": [
    "#### Merge Tables\n"
   ]
  },
  {
   "cell_type": "markdown",
   "id": "b5f5b08a-fb8b-46ed-a454-f7b7a38fdf9a",
   "metadata": {},
   "source": [
    "- To create a unified dataset, we merged PATIENTS, ADMISSIONS, and ICUSTAYS tables. This provides demographic details, ICU stay information, and mortality status.\n",
    "- The MORTALITY target variable is set to 1 if the patient has a DEATHTIME, indicating in-hospital death.\n",
    "- We calculate ICU stay duration in hours and filter for stays within the first 24 hours.\n"
   ]
  },
  {
   "cell_type": "code",
   "execution_count": 30,
   "id": "f7bef9c1-d99b-4c7f-a670-bd403f3940d0",
   "metadata": {},
   "outputs": [
    {
     "name": "stdout",
     "output_type": "stream",
     "text": [
      "Merged Data with Target:\n",
      "    ROW_ID_x  SUBJECT_ID  HADM_ID  ICUSTAY_ID DBSOURCE FIRST_CAREUNIT  \\\n",
      "0       365         268   110404      280836  carevue           MICU   \n",
      "1       366         269   106296      206613  carevue           MICU   \n",
      "2       367         270   188028      220345  carevue            CCU   \n",
      "3       368         271   173727      249196  carevue           MICU   \n",
      "4       369         272   164716      210407  carevue            CCU   \n",
      "\n",
      "  LAST_CAREUNIT  FIRST_WARDID  LAST_WARDID               INTIME  ...  \\\n",
      "0          MICU            52           52  2198-02-14 23:27:38  ...   \n",
      "1          MICU            52           52  2170-11-05 11:05:29  ...   \n",
      "2           CCU            57           57  2128-06-24 15:05:20  ...   \n",
      "3          SICU            52           23  2120-08-07 23:12:42  ...   \n",
      "4           CCU            57           57  2186-12-25 21:08:04  ...   \n",
      "\n",
      "  HOSPITAL_EXPIRE_FLAG  HAS_CHARTEVENTS_DATA  ROW_ID GENDER  \\\n",
      "0                    1                     1     251      F   \n",
      "1                    0                     1     252      M   \n",
      "2                    0                     1     253      M   \n",
      "3                    0                     1     254      F   \n",
      "4                    0                     1     255      M   \n",
      "\n",
      "                   DOB                  DOD             DOD_HOSP DOD_SSN  \\\n",
      "0  2132-02-21 00:00:00  2198-02-18 00:00:00  2198-02-18 00:00:00     NaN   \n",
      "1  2130-09-30 00:00:00                  NaN                  NaN     NaN   \n",
      "2  2048-05-26 00:00:00                  NaN                  NaN     NaN   \n",
      "3  2074-11-30 00:00:00                  NaN                  NaN     NaN   \n",
      "4  2119-11-21 00:00:00                  NaN                  NaN     NaN   \n",
      "\n",
      "  EXPIRE_FLAG MORTALITY  \n",
      "0           1         1  \n",
      "1           0         0  \n",
      "2           0         0  \n",
      "3           0         0  \n",
      "4           0         0  \n",
      "\n",
      "[5 rows x 37 columns]\n"
     ]
    }
   ],
   "source": [
    "# Merge patients, admissions, and ICU stays on SUBJECT_ID and HADM_ID\n",
    "merged_df = icustays.merge(admissions, on=['SUBJECT_ID', 'HADM_ID'], how='inner') \\\n",
    "                        .merge(patients, on='SUBJECT_ID', how='inner')\n",
    "\n",
    "# Add the mortality flag as the target variable\n",
    "merged_df['MORTALITY'] = merged_df['HOSPITAL_EXPIRE_FLAG']\n",
    "print(\"Merged Data with Target:\\n\", merged_df.head())\n"
   ]
  },
  {
   "cell_type": "markdown",
   "id": "2d9ee050-85ab-474a-b896-36136c2ad548",
   "metadata": {},
   "source": [
    "## Feature Engineering\n"
   ]
  },
  {
   "cell_type": "code",
   "execution_count": 40,
   "id": "75ee033a-47ec-428a-ac8a-4a1a93ae6a72",
   "metadata": {},
   "outputs": [
    {
     "name": "stdout",
     "output_type": "stream",
     "text": [
      "   ROW_ID_x  SUBJECT_ID  HADM_ID  ICUSTAY_ID DBSOURCE FIRST_CAREUNIT  \\\n",
      "0       365         268   110404      280836  carevue           MICU   \n",
      "1       366         269   106296      206613  carevue           MICU   \n",
      "2       367         270   188028      220345  carevue            CCU   \n",
      "3       368         271   173727      249196  carevue           MICU   \n",
      "4       369         272   164716      210407  carevue            CCU   \n",
      "\n",
      "  LAST_CAREUNIT  FIRST_WARDID  LAST_WARDID              INTIME  ...  \\\n",
      "0          MICU            52           52 2198-02-14 23:27:38  ...   \n",
      "1          MICU            52           52 2170-11-05 11:05:29  ...   \n",
      "2           CCU            57           57 2128-06-24 15:05:20  ...   \n",
      "3          SICU            52           23 2120-08-07 23:12:42  ...   \n",
      "4           CCU            57           57 2186-12-25 21:08:04  ...   \n",
      "\n",
      "  MAX_VAL_220180  MAX_VAL_220181  MAX_VAL_220210 MAX_VAL_220277  \\\n",
      "0            NaN             NaN             NaN            NaN   \n",
      "1            NaN             NaN             NaN            NaN   \n",
      "2            NaN             NaN             NaN            NaN   \n",
      "3            NaN             NaN             NaN            NaN   \n",
      "4            NaN             NaN             NaN            NaN   \n",
      "\n",
      "  MIN_VAL_220045 MIN_VAL_220179 MIN_VAL_220180 MIN_VAL_220181 MIN_VAL_220210  \\\n",
      "0            NaN            NaN            NaN            NaN            NaN   \n",
      "1            NaN            NaN            NaN            NaN            NaN   \n",
      "2            NaN            NaN            NaN            NaN            NaN   \n",
      "3            NaN            NaN            NaN            NaN            NaN   \n",
      "4            NaN            NaN            NaN            NaN            NaN   \n",
      "\n",
      "  MIN_VAL_220277  \n",
      "0            NaN  \n",
      "1            NaN  \n",
      "2            NaN  \n",
      "3            NaN  \n",
      "4            NaN  \n",
      "\n",
      "[5 rows x 55 columns]\n"
     ]
    }
   ],
   "source": [
    "import pandas as pd\n",
    "\n",
    "# Ensure INTIME and CHARTTIME are in datetime format\n",
    "icustays['INTIME'] = pd.to_datetime(icustays['INTIME'])\n",
    "chartevents['CHARTTIME'] = pd.to_datetime(chartevents['CHARTTIME'])\n",
    "\n",
    "# Now, we can safely add Timedelta to the 'INTIME'\n",
    "# First, we need to merge the chartevents with icustays to get the ICU stay information\n",
    "merged_chartevents = pd.merge(chartevents, icustays[['ICUSTAY_ID', 'INTIME']], on='ICUSTAY_ID', how='inner')\n",
    "\n",
    "# Filter Chart Events to get data within the first 24 hours of ICU stay\n",
    "chartevents_24hr = merged_chartevents[merged_chartevents['CHARTTIME'] <= merged_chartevents['INTIME'] + pd.Timedelta(hours=24)]\n",
    "\n",
    "# Example of important ITEMID for vital signs (Heart Rate, BP, etc.)\n",
    "# ITEMID corresponds to various vital signs in the CHARTEVENTS table (assumed knowledge)\n",
    "vital_signs_itemids = [220045, 220179, 220180, 220181, 220210, 220277]  # Adjust based on the actual dataset\n",
    "\n",
    "# Filter for those ITEMIDs (representing key vital signs)\n",
    "filtered_vitals = chartevents_24hr[chartevents_24hr['ITEMID'].isin(vital_signs_itemids)]\n",
    "\n",
    "# Aggregating vital sign data (mean, min, max) over the first 24 hours\n",
    "vital_agg = filtered_vitals.groupby(['ICUSTAY_ID', 'ITEMID']).agg({\n",
    "    'VALUENUM': ['mean', 'max', 'min']\n",
    "}).reset_index()\n",
    "\n",
    "# Flatten multi-level columns\n",
    "vital_agg.columns = ['ICUSTAY_ID', 'ITEMID', 'MEAN_VAL', 'MAX_VAL', 'MIN_VAL']\n",
    "\n",
    "# Pivot the table to create one row per ICU stay, with different vital signs as columns\n",
    "vital_features = vital_agg.pivot(index='ICUSTAY_ID', columns='ITEMID', values=['MEAN_VAL', 'MAX_VAL', 'MIN_VAL'])\n",
    "vital_features.columns = ['_'.join(map(str, col)) for col in vital_features.columns]  # Flatten the column names\n",
    "vital_features.reset_index(inplace=True)\n",
    "\n",
    "# Merge vital signs data back to the main merged dataframe\n",
    "merged_df = pd.merge(merged_df, vital_features, on='ICUSTAY_ID', how='left')\n",
    "\n",
    "print(merged_df.head())\n"
   ]
  },
  {
   "cell_type": "markdown",
   "id": "55e8bb94-d392-4884-bdfc-2d4edab0b42f",
   "metadata": {},
   "source": [
    "### Select Lab Results from LABEVENTS\n",
    "Similarly, we select key lab results (e.g., glucose, sodium) within the first 24 hours."
   ]
  },
  {
   "cell_type": "code",
   "execution_count": 44,
   "id": "21d782c7-0734-4189-8aa2-a43d8ebbaca3",
   "metadata": {},
   "outputs": [
    {
     "name": "stdout",
     "output_type": "stream",
     "text": [
      "   ROW_ID_x  SUBJECT_ID  HADM_ID  ICUSTAY_ID DBSOURCE FIRST_CAREUNIT  \\\n",
      "0       365         268   110404      280836  carevue           MICU   \n",
      "1       366         269   106296      206613  carevue           MICU   \n",
      "2       367         270   188028      220345  carevue            CCU   \n",
      "3       368         271   173727      249196  carevue           MICU   \n",
      "4       369         272   164716      210407  carevue            CCU   \n",
      "\n",
      "  LAST_CAREUNIT  FIRST_WARDID  LAST_WARDID              INTIME  ...  \\\n",
      "0          MICU            52           52 2198-02-14 23:27:38  ...   \n",
      "1          MICU            52           52 2170-11-05 11:05:29  ...   \n",
      "2           CCU            57           57 2128-06-24 15:05:20  ...   \n",
      "3          SICU            52           23 2120-08-07 23:12:42  ...   \n",
      "4           CCU            57           57 2186-12-25 21:08:04  ...   \n",
      "\n",
      "  MIN_VAL_220277  LAB_MEAN_50893  LAB_MEAN_50971 LAB_MEAN_50983 LAB_MAX_50893  \\\n",
      "0            NaN        8.266667        4.775000     131.375000           8.9   \n",
      "1            NaN        7.500000        4.275000     133.000000           9.0   \n",
      "2            NaN        9.133333        4.233333     138.666667           9.5   \n",
      "3            NaN        7.733333        3.666667     151.333333           7.9   \n",
      "4            NaN        8.250000        4.000000     140.000000           8.4   \n",
      "\n",
      "  LAB_MAX_50971 LAB_MAX_50983 LAB_MIN_50893 LAB_MIN_50971 LAB_MIN_50983  \n",
      "0           5.1         134.0           7.5           4.2         127.0  \n",
      "1           4.3         134.0           6.7           4.2         132.0  \n",
      "2           4.4         140.0           8.7           3.9         136.0  \n",
      "3           3.8         153.0           7.5           3.6         150.0  \n",
      "4           4.1         140.0           8.1           3.9         140.0  \n",
      "\n",
      "[5 rows x 64 columns]\n"
     ]
    }
   ],
   "source": [
    "# Ensure CHARTTIME and INTIME are datetime\n",
    "labevents['CHARTTIME'] = pd.to_datetime(labevents['CHARTTIME'])\n",
    "icustays['INTIME'] = pd.to_datetime(icustays['INTIME'])\n",
    "\n",
    "# Merge on 'HADM_ID' if 'ICUSTAY_ID' is not available in labevents\n",
    "merged_labevents = pd.merge(labevents, icustays[['HADM_ID', 'INTIME']], on='HADM_ID', how='inner')\n",
    "\n",
    "# Filter Lab Events for the first 24 hours of ICU stay\n",
    "lab_events_24hr = merged_labevents[merged_labevents['CHARTTIME'] <= merged_labevents['INTIME'] + pd.Timedelta(hours=24)]\n",
    "\n",
    "# Define ITEMIDs for key lab tests (e.g., Sodium, Potassium, etc.)\n",
    "lab_itemids = [50983, 50971, 50893]  # Adjust based on dataset\n",
    "\n",
    "# Filter for key lab tests\n",
    "filtered_labs = lab_events_24hr[lab_events_24hr['ITEMID'].isin(lab_itemids)]\n",
    "\n",
    "# Aggregate lab results (mean, min, max) over 24 hours\n",
    "lab_agg = filtered_labs.groupby(['HADM_ID', 'ITEMID']).agg({\n",
    "    'VALUENUM': ['mean', 'max', 'min']\n",
    "}).reset_index()\n",
    "\n",
    "# Flatten multi-level columns\n",
    "lab_agg.columns = ['HADM_ID', 'ITEMID', 'LAB_MEAN', 'LAB_MAX', 'LAB_MIN']\n",
    "\n",
    "# Pivot the table to create one row per hospital admission (HADM_ID), with different lab tests as columns\n",
    "lab_features = lab_agg.pivot(index='HADM_ID', columns='ITEMID', values=['LAB_MEAN', 'LAB_MAX', 'LAB_MIN'])\n",
    "lab_features.columns = ['_'.join(map(str, col)) for col in lab_features.columns]  # Flatten column names\n",
    "lab_features.reset_index(inplace=True)\n",
    "\n",
    "# Merge lab results data back into the main dataframe (using HADM_ID here for consistency)\n",
    "merged_df = pd.merge(merged_df, lab_features, on='HADM_ID', how='left')\n",
    "\n",
    "print(merged_df.head())\n"
   ]
  },
  {
   "cell_type": "markdown",
   "id": "c2294815-c8f1-4151-bc2f-535bde659c72",
   "metadata": {},
   "source": [
    "### Data Cleaning and Preparation for Model"
   ]
  },
  {
   "cell_type": "code",
   "execution_count": 45,
   "id": "8289ab87-c156-4a49-897a-21ecc1e75a36",
   "metadata": {},
   "outputs": [
    {
     "name": "stdout",
     "output_type": "stream",
     "text": [
      "(43072, 27) (18460, 27)\n"
     ]
    }
   ],
   "source": [
    "# Drop rows where the target variable is missing\n",
    "merged_df.dropna(subset=['MORTALITY'], inplace=True)\n",
    "\n",
    "# Fill missing values in vital and lab features with median or zero\n",
    "vital_cols = [col for col in merged_df.columns if 'MEAN_VAL' in col or 'MAX_VAL' in col or 'MIN_VAL' in col]\n",
    "lab_cols = [col for col in merged_df.columns if 'LAB_MEAN' in col or 'LAB_MAX' in col or 'LAB_MIN' in col]\n",
    "\n",
    "merged_df[vital_cols] = merged_df[vital_cols].fillna(merged_df[vital_cols].median())\n",
    "merged_df[lab_cols] = merged_df[lab_cols].fillna(merged_df[lab_cols].median())\n",
    "\n",
    "# Define features (vital signs and lab results) and target (MORTALITY)\n",
    "X = merged_df[vital_cols + lab_cols]\n",
    "y = merged_df['MORTALITY']\n",
    "\n",
    "# Split data into train and test sets\n",
    "from sklearn.model_selection import train_test_split\n",
    "X_train, X_test, y_train, y_test = train_test_split(X, y, test_size=0.3, random_state=42)\n",
    "\n",
    "print(X_train.shape, X_test.shape)\n"
   ]
  },
  {
   "cell_type": "markdown",
   "id": "3f0549a0-465f-45d9-9ca5-05550ff1663a",
   "metadata": {},
   "source": [
    "## Model Training and Evaluation"
   ]
  },
  {
   "cell_type": "markdown",
   "id": "8b806af6-5477-4f16-8427-5a243f91a2c8",
   "metadata": {},
   "source": [
    "### Result Analysis"
   ]
  },
  {
   "cell_type": "code",
   "execution_count": null,
   "id": "510a6117-397d-4f81-b151-abd97479cfd9",
   "metadata": {},
   "outputs": [],
   "source": []
  },
  {
   "cell_type": "code",
   "execution_count": 54,
   "id": "76e2ca32-dd79-4fb0-9212-012823d5da40",
   "metadata": {},
   "outputs": [
    {
     "name": "stdout",
     "output_type": "stream",
     "text": [
      "\u001b[1m577/577\u001b[0m \u001b[32m━━━━━━━━━━━━━━━━━━━━\u001b[0m\u001b[37m\u001b[0m \u001b[1m0s\u001b[0m 223us/step\n",
      "\u001b[1m577/577\u001b[0m \u001b[32m━━━━━━━━━━━━━━━━━━━━\u001b[0m\u001b[37m\u001b[0m \u001b[1m0s\u001b[0m 187us/step\n",
      "Deep Learning Model Accuracy: 0.8957204767063922\n",
      "Deep Learning Model AUC-ROC: 0.7504477567662016\n",
      "              precision    recall  f1-score   support\n",
      "\n",
      "           0       0.90      1.00      0.94     16494\n",
      "           1       0.75      0.03      0.06      1966\n",
      "\n",
      "    accuracy                           0.90     18460\n",
      "   macro avg       0.82      0.52      0.50     18460\n",
      "weighted avg       0.88      0.90      0.85     18460\n",
      "\n"
     ]
    }
   ],
   "source": [
    "from sklearn.metrics import accuracy_score, roc_auc_score, classification_report\n",
    "\n",
    "# Make predictions\n",
    "y_pred = (model.predict(X_test_scaled) > 0.5).astype(\"int32\")\n",
    "\n",
    "# Calculate accuracy and AUC-ROC score\n",
    "accuracy = accuracy_score(y_test, y_pred)\n",
    "y_pred_proba = model.predict(X_test_scaled)  # Probabilities for AUC\n",
    "roc_auc = roc_auc_score(y_test, y_pred_proba)\n",
    "\n",
    "print(f\"Deep Learning Model Accuracy: {accuracy}\")\n",
    "print(f\"Deep Learning Model AUC-ROC: {roc_auc}\")\n",
    "\n",
    "# Classification report\n",
    "print(classification_report(y_test, y_pred))\n"
   ]
  },
  {
   "cell_type": "code",
   "execution_count": null,
   "id": "063772f9-ce7f-4317-90df-56fff9d88cad",
   "metadata": {},
   "outputs": [],
   "source": []
  },
  {
   "cell_type": "code",
   "execution_count": 66,
   "id": "7651059c-113d-4edc-bf30-005f16119cd1",
   "metadata": {},
   "outputs": [
    {
     "name": "stderr",
     "output_type": "stream",
     "text": [
      "/opt/anaconda3/lib/python3.12/site-packages/keras/src/layers/core/dense.py:87: UserWarning: Do not pass an `input_shape`/`input_dim` argument to a layer. When using Sequential models, prefer using an `Input(shape)` object as the first layer in the model instead.\n",
      "  super().__init__(activity_regularizer=activity_regularizer, **kwargs)\n"
     ]
    },
    {
     "data": {
      "text/html": [
       "<pre style=\"white-space:pre;overflow-x:auto;line-height:normal;font-family:Menlo,'DejaVu Sans Mono',consolas,'Courier New',monospace\"><span style=\"font-weight: bold\">Model: \"sequential_4\"</span>\n",
       "</pre>\n"
      ],
      "text/plain": [
       "\u001b[1mModel: \"sequential_4\"\u001b[0m\n"
      ]
     },
     "metadata": {},
     "output_type": "display_data"
    },
    {
     "data": {
      "text/html": [
       "<pre style=\"white-space:pre;overflow-x:auto;line-height:normal;font-family:Menlo,'DejaVu Sans Mono',consolas,'Courier New',monospace\">┏━━━━━━━━━━━━━━━━━━━━━━━━━━━━━━━━━┳━━━━━━━━━━━━━━━━━━━━━━━━┳━━━━━━━━━━━━━━━┓\n",
       "┃<span style=\"font-weight: bold\"> Layer (type)                    </span>┃<span style=\"font-weight: bold\"> Output Shape           </span>┃<span style=\"font-weight: bold\">       Param # </span>┃\n",
       "┡━━━━━━━━━━━━━━━━━━━━━━━━━━━━━━━━━╇━━━━━━━━━━━━━━━━━━━━━━━━╇━━━━━━━━━━━━━━━┩\n",
       "│ dense_11 (<span style=\"color: #0087ff; text-decoration-color: #0087ff\">Dense</span>)                │ (<span style=\"color: #00d7ff; text-decoration-color: #00d7ff\">None</span>, <span style=\"color: #00af00; text-decoration-color: #00af00\">128</span>)            │         <span style=\"color: #00af00; text-decoration-color: #00af00\">3,584</span> │\n",
       "├─────────────────────────────────┼────────────────────────┼───────────────┤\n",
       "│ dropout_8 (<span style=\"color: #0087ff; text-decoration-color: #0087ff\">Dropout</span>)             │ (<span style=\"color: #00d7ff; text-decoration-color: #00d7ff\">None</span>, <span style=\"color: #00af00; text-decoration-color: #00af00\">128</span>)            │             <span style=\"color: #00af00; text-decoration-color: #00af00\">0</span> │\n",
       "├─────────────────────────────────┼────────────────────────┼───────────────┤\n",
       "│ dense_12 (<span style=\"color: #0087ff; text-decoration-color: #0087ff\">Dense</span>)                │ (<span style=\"color: #00d7ff; text-decoration-color: #00d7ff\">None</span>, <span style=\"color: #00af00; text-decoration-color: #00af00\">64</span>)             │         <span style=\"color: #00af00; text-decoration-color: #00af00\">8,256</span> │\n",
       "├─────────────────────────────────┼────────────────────────┼───────────────┤\n",
       "│ dropout_9 (<span style=\"color: #0087ff; text-decoration-color: #0087ff\">Dropout</span>)             │ (<span style=\"color: #00d7ff; text-decoration-color: #00d7ff\">None</span>, <span style=\"color: #00af00; text-decoration-color: #00af00\">64</span>)             │             <span style=\"color: #00af00; text-decoration-color: #00af00\">0</span> │\n",
       "├─────────────────────────────────┼────────────────────────┼───────────────┤\n",
       "│ dense_13 (<span style=\"color: #0087ff; text-decoration-color: #0087ff\">Dense</span>)                │ (<span style=\"color: #00d7ff; text-decoration-color: #00d7ff\">None</span>, <span style=\"color: #00af00; text-decoration-color: #00af00\">32</span>)             │         <span style=\"color: #00af00; text-decoration-color: #00af00\">2,080</span> │\n",
       "├─────────────────────────────────┼────────────────────────┼───────────────┤\n",
       "│ dropout_10 (<span style=\"color: #0087ff; text-decoration-color: #0087ff\">Dropout</span>)            │ (<span style=\"color: #00d7ff; text-decoration-color: #00d7ff\">None</span>, <span style=\"color: #00af00; text-decoration-color: #00af00\">32</span>)             │             <span style=\"color: #00af00; text-decoration-color: #00af00\">0</span> │\n",
       "├─────────────────────────────────┼────────────────────────┼───────────────┤\n",
       "│ dense_14 (<span style=\"color: #0087ff; text-decoration-color: #0087ff\">Dense</span>)                │ (<span style=\"color: #00d7ff; text-decoration-color: #00d7ff\">None</span>, <span style=\"color: #00af00; text-decoration-color: #00af00\">1</span>)              │            <span style=\"color: #00af00; text-decoration-color: #00af00\">33</span> │\n",
       "└─────────────────────────────────┴────────────────────────┴───────────────┘\n",
       "</pre>\n"
      ],
      "text/plain": [
       "┏━━━━━━━━━━━━━━━━━━━━━━━━━━━━━━━━━┳━━━━━━━━━━━━━━━━━━━━━━━━┳━━━━━━━━━━━━━━━┓\n",
       "┃\u001b[1m \u001b[0m\u001b[1mLayer (type)                   \u001b[0m\u001b[1m \u001b[0m┃\u001b[1m \u001b[0m\u001b[1mOutput Shape          \u001b[0m\u001b[1m \u001b[0m┃\u001b[1m \u001b[0m\u001b[1m      Param #\u001b[0m\u001b[1m \u001b[0m┃\n",
       "┡━━━━━━━━━━━━━━━━━━━━━━━━━━━━━━━━━╇━━━━━━━━━━━━━━━━━━━━━━━━╇━━━━━━━━━━━━━━━┩\n",
       "│ dense_11 (\u001b[38;5;33mDense\u001b[0m)                │ (\u001b[38;5;45mNone\u001b[0m, \u001b[38;5;34m128\u001b[0m)            │         \u001b[38;5;34m3,584\u001b[0m │\n",
       "├─────────────────────────────────┼────────────────────────┼───────────────┤\n",
       "│ dropout_8 (\u001b[38;5;33mDropout\u001b[0m)             │ (\u001b[38;5;45mNone\u001b[0m, \u001b[38;5;34m128\u001b[0m)            │             \u001b[38;5;34m0\u001b[0m │\n",
       "├─────────────────────────────────┼────────────────────────┼───────────────┤\n",
       "│ dense_12 (\u001b[38;5;33mDense\u001b[0m)                │ (\u001b[38;5;45mNone\u001b[0m, \u001b[38;5;34m64\u001b[0m)             │         \u001b[38;5;34m8,256\u001b[0m │\n",
       "├─────────────────────────────────┼────────────────────────┼───────────────┤\n",
       "│ dropout_9 (\u001b[38;5;33mDropout\u001b[0m)             │ (\u001b[38;5;45mNone\u001b[0m, \u001b[38;5;34m64\u001b[0m)             │             \u001b[38;5;34m0\u001b[0m │\n",
       "├─────────────────────────────────┼────────────────────────┼───────────────┤\n",
       "│ dense_13 (\u001b[38;5;33mDense\u001b[0m)                │ (\u001b[38;5;45mNone\u001b[0m, \u001b[38;5;34m32\u001b[0m)             │         \u001b[38;5;34m2,080\u001b[0m │\n",
       "├─────────────────────────────────┼────────────────────────┼───────────────┤\n",
       "│ dropout_10 (\u001b[38;5;33mDropout\u001b[0m)            │ (\u001b[38;5;45mNone\u001b[0m, \u001b[38;5;34m32\u001b[0m)             │             \u001b[38;5;34m0\u001b[0m │\n",
       "├─────────────────────────────────┼────────────────────────┼───────────────┤\n",
       "│ dense_14 (\u001b[38;5;33mDense\u001b[0m)                │ (\u001b[38;5;45mNone\u001b[0m, \u001b[38;5;34m1\u001b[0m)              │            \u001b[38;5;34m33\u001b[0m │\n",
       "└─────────────────────────────────┴────────────────────────┴───────────────┘\n"
      ]
     },
     "metadata": {},
     "output_type": "display_data"
    },
    {
     "data": {
      "text/html": [
       "<pre style=\"white-space:pre;overflow-x:auto;line-height:normal;font-family:Menlo,'DejaVu Sans Mono',consolas,'Courier New',monospace\"><span style=\"font-weight: bold\"> Total params: </span><span style=\"color: #00af00; text-decoration-color: #00af00\">13,953</span> (54.50 KB)\n",
       "</pre>\n"
      ],
      "text/plain": [
       "\u001b[1m Total params: \u001b[0m\u001b[38;5;34m13,953\u001b[0m (54.50 KB)\n"
      ]
     },
     "metadata": {},
     "output_type": "display_data"
    },
    {
     "data": {
      "text/html": [
       "<pre style=\"white-space:pre;overflow-x:auto;line-height:normal;font-family:Menlo,'DejaVu Sans Mono',consolas,'Courier New',monospace\"><span style=\"font-weight: bold\"> Trainable params: </span><span style=\"color: #00af00; text-decoration-color: #00af00\">13,953</span> (54.50 KB)\n",
       "</pre>\n"
      ],
      "text/plain": [
       "\u001b[1m Trainable params: \u001b[0m\u001b[38;5;34m13,953\u001b[0m (54.50 KB)\n"
      ]
     },
     "metadata": {},
     "output_type": "display_data"
    },
    {
     "data": {
      "text/html": [
       "<pre style=\"white-space:pre;overflow-x:auto;line-height:normal;font-family:Menlo,'DejaVu Sans Mono',consolas,'Courier New',monospace\"><span style=\"font-weight: bold\"> Non-trainable params: </span><span style=\"color: #00af00; text-decoration-color: #00af00\">0</span> (0.00 B)\n",
       "</pre>\n"
      ],
      "text/plain": [
       "\u001b[1m Non-trainable params: \u001b[0m\u001b[38;5;34m0\u001b[0m (0.00 B)\n"
      ]
     },
     "metadata": {},
     "output_type": "display_data"
    }
   ],
   "source": [
    "from tensorflow.keras.models import Sequential\n",
    "from tensorflow.keras.layers import Dense, Dropout\n",
    "from sklearn.model_selection import train_test_split\n",
    "from sklearn.preprocessing import StandardScaler\n",
    "import matplotlib.pyplot as plt\n",
    "\n",
    "# Assume merged_df, vital_cols, and lab_cols are defined and X_lstm and y_lstm are prepared\n",
    "# Combine the features for the FCNN\n",
    "X_fcnn = merged_df[vital_cols + lab_cols].values  # All features (vitals and labs)\n",
    "y_fcnn = merged_df['MORTALITY'].values            # Target variable\n",
    "\n",
    "# Standardize the features\n",
    "scaler = StandardScaler()\n",
    "X_fcnn = scaler.fit_transform(X_fcnn)\n",
    "\n",
    "# Split the data into training and testing sets\n",
    "X_train_fcnn, X_test_fcnn, y_train_fcnn, y_test_fcnn = train_test_split(X_fcnn, y_fcnn, test_size=0.3, random_state=42)\n",
    "\n",
    "# Define a Fully Connected Neural Network (FCNN) model\n",
    "fcnn_model = Sequential()\n",
    "\n",
    "# First dense layer with 128 units\n",
    "fcnn_model.add(Dense(128, activation='relu', input_shape=(X_train_fcnn.shape[1],)))\n",
    "fcnn_model.add(Dropout(0.3))  # Dropout layer to prevent overfitting\n",
    "\n",
    "# Second dense layer with 64 units\n",
    "fcnn_model.add(Dense(64, activation='relu'))\n",
    "fcnn_model.add(Dropout(0.3))\n",
    "\n",
    "# Third dense layer with 32 units\n",
    "fcnn_model.add(Dense(32, activation='relu'))\n",
    "fcnn_model.add(Dropout(0.3))\n",
    "\n",
    "# Output layer with sigmoid activation for binary classification\n",
    "fcnn_model.add(Dense(1, activation='sigmoid'))\n",
    "\n",
    "# Compile the model\n",
    "fcnn_model.compile(optimizer='adam', loss='binary_crossentropy', metrics=['accuracy'])\n",
    "\n",
    "# Print model summary\n",
    "fcnn_model.summary()\n",
    "\n",
    "\n"
   ]
  },
  {
   "cell_type": "code",
   "execution_count": 67,
   "id": "4972e013-428b-4fe6-9385-d167036334ab",
   "metadata": {},
   "outputs": [
    {
     "name": "stdout",
     "output_type": "stream",
     "text": [
      "Epoch 1/30\n",
      "\u001b[1m673/673\u001b[0m \u001b[32m━━━━━━━━━━━━━━━━━━━━\u001b[0m\u001b[37m\u001b[0m \u001b[1m1s\u001b[0m 559us/step - accuracy: 0.8712 - loss: 0.4071 - val_accuracy: 0.8956 - val_loss: 0.3050\n",
      "Epoch 2/30\n",
      "\u001b[1m673/673\u001b[0m \u001b[32m━━━━━━━━━━━━━━━━━━━━\u001b[0m\u001b[37m\u001b[0m \u001b[1m0s\u001b[0m 474us/step - accuracy: 0.8919 - loss: 0.3216 - val_accuracy: 0.8960 - val_loss: 0.3087\n",
      "Epoch 3/30\n",
      "\u001b[1m673/673\u001b[0m \u001b[32m━━━━━━━━━━━━━━━━━━━━\u001b[0m\u001b[37m\u001b[0m \u001b[1m0s\u001b[0m 475us/step - accuracy: 0.8956 - loss: 0.3068 - val_accuracy: 0.8962 - val_loss: 0.3108\n",
      "Epoch 4/30\n",
      "\u001b[1m673/673\u001b[0m \u001b[32m━━━━━━━━━━━━━━━━━━━━\u001b[0m\u001b[37m\u001b[0m \u001b[1m0s\u001b[0m 482us/step - accuracy: 0.8938 - loss: 0.3094 - val_accuracy: 0.8963 - val_loss: 0.3076\n",
      "Epoch 5/30\n",
      "\u001b[1m673/673\u001b[0m \u001b[32m━━━━━━━━━━━━━━━━━━━━\u001b[0m\u001b[37m\u001b[0m \u001b[1m0s\u001b[0m 501us/step - accuracy: 0.8959 - loss: 0.3012 - val_accuracy: 0.8959 - val_loss: 0.3167\n",
      "Epoch 6/30\n",
      "\u001b[1m673/673\u001b[0m \u001b[32m━━━━━━━━━━━━━━━━━━━━\u001b[0m\u001b[37m\u001b[0m \u001b[1m0s\u001b[0m 484us/step - accuracy: 0.8951 - loss: 0.3034 - val_accuracy: 0.8962 - val_loss: 0.3170\n",
      "Epoch 7/30\n",
      "\u001b[1m673/673\u001b[0m \u001b[32m━━━━━━━━━━━━━━━━━━━━\u001b[0m\u001b[37m\u001b[0m \u001b[1m0s\u001b[0m 495us/step - accuracy: 0.8971 - loss: 0.2993 - val_accuracy: 0.8957 - val_loss: 0.3204\n",
      "Epoch 8/30\n",
      "\u001b[1m673/673\u001b[0m \u001b[32m━━━━━━━━━━━━━━━━━━━━\u001b[0m\u001b[37m\u001b[0m \u001b[1m0s\u001b[0m 476us/step - accuracy: 0.8945 - loss: 0.3034 - val_accuracy: 0.8960 - val_loss: 0.3313\n",
      "Epoch 9/30\n",
      "\u001b[1m673/673\u001b[0m \u001b[32m━━━━━━━━━━━━━━━━━━━━\u001b[0m\u001b[37m\u001b[0m \u001b[1m0s\u001b[0m 479us/step - accuracy: 0.8952 - loss: 0.2994 - val_accuracy: 0.8956 - val_loss: 0.3424\n",
      "Epoch 10/30\n",
      "\u001b[1m673/673\u001b[0m \u001b[32m━━━━━━━━━━━━━━━━━━━━\u001b[0m\u001b[37m\u001b[0m \u001b[1m0s\u001b[0m 480us/step - accuracy: 0.8941 - loss: 0.3023 - val_accuracy: 0.8957 - val_loss: 0.3322\n",
      "Epoch 11/30\n",
      "\u001b[1m673/673\u001b[0m \u001b[32m━━━━━━━━━━━━━━━━━━━━\u001b[0m\u001b[37m\u001b[0m \u001b[1m0s\u001b[0m 479us/step - accuracy: 0.8947 - loss: 0.3002 - val_accuracy: 0.8954 - val_loss: 0.3309\n",
      "Epoch 12/30\n",
      "\u001b[1m673/673\u001b[0m \u001b[32m━━━━━━━━━━━━━━━━━━━━\u001b[0m\u001b[37m\u001b[0m \u001b[1m0s\u001b[0m 515us/step - accuracy: 0.8936 - loss: 0.3008 - val_accuracy: 0.8958 - val_loss: 0.3483\n",
      "Epoch 13/30\n",
      "\u001b[1m673/673\u001b[0m \u001b[32m━━━━━━━━━━━━━━━━━━━━\u001b[0m\u001b[37m\u001b[0m \u001b[1m0s\u001b[0m 487us/step - accuracy: 0.8947 - loss: 0.2989 - val_accuracy: 0.8958 - val_loss: 0.3532\n",
      "Epoch 14/30\n",
      "\u001b[1m673/673\u001b[0m \u001b[32m━━━━━━━━━━━━━━━━━━━━\u001b[0m\u001b[37m\u001b[0m \u001b[1m0s\u001b[0m 562us/step - accuracy: 0.8959 - loss: 0.2960 - val_accuracy: 0.8963 - val_loss: 0.3770\n",
      "Epoch 15/30\n",
      "\u001b[1m673/673\u001b[0m \u001b[32m━━━━━━━━━━━━━━━━━━━━\u001b[0m\u001b[37m\u001b[0m \u001b[1m0s\u001b[0m 494us/step - accuracy: 0.8960 - loss: 0.2963 - val_accuracy: 0.8963 - val_loss: 0.3903\n",
      "Epoch 16/30\n",
      "\u001b[1m673/673\u001b[0m \u001b[32m━━━━━━━━━━━━━━━━━━━━\u001b[0m\u001b[37m\u001b[0m \u001b[1m0s\u001b[0m 501us/step - accuracy: 0.8932 - loss: 0.3001 - val_accuracy: 0.8963 - val_loss: 0.3739\n",
      "Epoch 17/30\n",
      "\u001b[1m673/673\u001b[0m \u001b[32m━━━━━━━━━━━━━━━━━━━━\u001b[0m\u001b[37m\u001b[0m \u001b[1m0s\u001b[0m 477us/step - accuracy: 0.8964 - loss: 0.2933 - val_accuracy: 0.8958 - val_loss: 0.3763\n",
      "Epoch 18/30\n",
      "\u001b[1m673/673\u001b[0m \u001b[32m━━━━━━━━━━━━━━━━━━━━\u001b[0m\u001b[37m\u001b[0m \u001b[1m0s\u001b[0m 478us/step - accuracy: 0.8941 - loss: 0.2985 - val_accuracy: 0.8963 - val_loss: 0.3903\n",
      "Epoch 19/30\n",
      "\u001b[1m673/673\u001b[0m \u001b[32m━━━━━━━━━━━━━━━━━━━━\u001b[0m\u001b[37m\u001b[0m \u001b[1m0s\u001b[0m 481us/step - accuracy: 0.8966 - loss: 0.2934 - val_accuracy: 0.8963 - val_loss: 0.3984\n",
      "Epoch 20/30\n",
      "\u001b[1m673/673\u001b[0m \u001b[32m━━━━━━━━━━━━━━━━━━━━\u001b[0m\u001b[37m\u001b[0m \u001b[1m0s\u001b[0m 477us/step - accuracy: 0.8959 - loss: 0.2959 - val_accuracy: 0.8962 - val_loss: 0.3993\n",
      "Epoch 21/30\n",
      "\u001b[1m673/673\u001b[0m \u001b[32m━━━━━━━━━━━━━━━━━━━━\u001b[0m\u001b[37m\u001b[0m \u001b[1m0s\u001b[0m 477us/step - accuracy: 0.8939 - loss: 0.2958 - val_accuracy: 0.8962 - val_loss: 0.4038\n",
      "Epoch 22/30\n",
      "\u001b[1m673/673\u001b[0m \u001b[32m━━━━━━━━━━━━━━━━━━━━\u001b[0m\u001b[37m\u001b[0m \u001b[1m0s\u001b[0m 483us/step - accuracy: 0.8921 - loss: 0.3016 - val_accuracy: 0.8959 - val_loss: 0.4216\n",
      "Epoch 23/30\n",
      "\u001b[1m673/673\u001b[0m \u001b[32m━━━━━━━━━━━━━━━━━━━━\u001b[0m\u001b[37m\u001b[0m \u001b[1m0s\u001b[0m 486us/step - accuracy: 0.8955 - loss: 0.2934 - val_accuracy: 0.8964 - val_loss: 0.4481\n",
      "Epoch 24/30\n",
      "\u001b[1m673/673\u001b[0m \u001b[32m━━━━━━━━━━━━━━━━━━━━\u001b[0m\u001b[37m\u001b[0m \u001b[1m0s\u001b[0m 545us/step - accuracy: 0.8957 - loss: 0.2949 - val_accuracy: 0.8960 - val_loss: 0.4437\n",
      "Epoch 25/30\n",
      "\u001b[1m673/673\u001b[0m \u001b[32m━━━━━━━━━━━━━━━━━━━━\u001b[0m\u001b[37m\u001b[0m \u001b[1m0s\u001b[0m 483us/step - accuracy: 0.8947 - loss: 0.2961 - val_accuracy: 0.8962 - val_loss: 0.4698\n",
      "Epoch 26/30\n",
      "\u001b[1m673/673\u001b[0m \u001b[32m━━━━━━━━━━━━━━━━━━━━\u001b[0m\u001b[37m\u001b[0m \u001b[1m0s\u001b[0m 477us/step - accuracy: 0.8947 - loss: 0.2958 - val_accuracy: 0.8963 - val_loss: 0.4642\n",
      "Epoch 27/30\n",
      "\u001b[1m673/673\u001b[0m \u001b[32m━━━━━━━━━━━━━━━━━━━━\u001b[0m\u001b[37m\u001b[0m \u001b[1m0s\u001b[0m 485us/step - accuracy: 0.8947 - loss: 0.2943 - val_accuracy: 0.8966 - val_loss: 0.4654\n",
      "Epoch 28/30\n",
      "\u001b[1m673/673\u001b[0m \u001b[32m━━━━━━━━━━━━━━━━━━━━\u001b[0m\u001b[37m\u001b[0m \u001b[1m0s\u001b[0m 479us/step - accuracy: 0.8996 - loss: 0.2859 - val_accuracy: 0.8967 - val_loss: 0.4991\n",
      "Epoch 29/30\n",
      "\u001b[1m673/673\u001b[0m \u001b[32m━━━━━━━━━━━━━━━━━━━━\u001b[0m\u001b[37m\u001b[0m \u001b[1m0s\u001b[0m 482us/step - accuracy: 0.8964 - loss: 0.2923 - val_accuracy: 0.8969 - val_loss: 0.4696\n",
      "Epoch 30/30\n",
      "\u001b[1m673/673\u001b[0m \u001b[32m━━━━━━━━━━━━━━━━━━━━\u001b[0m\u001b[37m\u001b[0m \u001b[1m0s\u001b[0m 561us/step - accuracy: 0.8963 - loss: 0.2887 - val_accuracy: 0.8966 - val_loss: 0.5041\n"
     ]
    }
   ],
   "source": [
    "# Train the FCNN model\n",
    "history_fcnn = fcnn_model.fit(X_train_fcnn, y_train_fcnn, epochs=30, batch_size=64, validation_data=(X_test_fcnn, y_test_fcnn))\n"
   ]
  },
  {
   "cell_type": "code",
   "execution_count": 68,
   "id": "5d3116e2-559a-4d97-aba4-01b0cb8b2b1a",
   "metadata": {},
   "outputs": [
    {
     "data": {
      "image/png": "[encoded data removed]",
      "text/plain": [
       "<Figure size 640x480 with 1 Axes>"
      ]
     },
     "metadata": {},
     "output_type": "display_data"
    },
    {
     "data": {
      "image/png": "[encoded data removed]",
      "text/plain": [
       "<Figure size 640x480 with 1 Axes>"
      ]
     },
     "metadata": {},
     "output_type": "display_data"
    },
    {
     "name": "stdout",
     "output_type": "stream",
     "text": [
      "\u001b[1m577/577\u001b[0m \u001b[32m━━━━━━━━━━━━━━━━━━━━\u001b[0m\u001b[37m\u001b[0m \u001b[1m0s\u001b[0m 210us/step - accuracy: 0.8990 - loss: 0.5653\n",
      "Test Accuracy: 0.8966413736343384\n"
     ]
    }
   ],
   "source": [
    "\n",
    "# Plot the training history (accuracy)\n",
    "plt.plot(history_fcnn.history['accuracy'], label='Train Accuracy')\n",
    "plt.plot(history_fcnn.history['val_accuracy'], label='Val Accuracy')\n",
    "plt.title('FCNN Model Accuracy')\n",
    "plt.xlabel('Epochs')\n",
    "plt.ylabel('Accuracy')\n",
    "plt.legend()\n",
    "plt.show()\n",
    "\n",
    "# Plot the training history (loss)\n",
    "plt.plot(history_fcnn.history['loss'], label='Train Loss')\n",
    "plt.plot(history_fcnn.history['val_loss'], label='Val Loss')\n",
    "plt.title('FCNN Model Loss')\n",
    "plt.xlabel('Epochs')\n",
    "plt.ylabel('Loss')\n",
    "plt.legend()\n",
    "plt.show()\n",
    "\n",
    "# Evaluate on the test set\n",
    "test_loss, test_accuracy = fcnn_model.evaluate(X_test_fcnn, y_test_fcnn)\n",
    "print(f\"Test Accuracy: {test_accuracy}\")"
   ]
  },
  {
   "cell_type": "code",
   "execution_count": null,
   "id": "b777c536-8688-4bd5-a611-1f85b1665a91",
   "metadata": {},
   "outputs": [],
   "source": []
  }
 ],
 "metadata": {
  "kernelspec": {
   "display_name": "Python 3 (ipykernel)",
   "language": "python",
   "name": "python3"
  },
  "language_info": {
   "codemirror_mode": {
    "name": "ipython",
    "version": 3
   },
   "file_extension": ".py",
   "mimetype": "text/x-python",
   "name": "python",
   "nbconvert_exporter": "python",
   "pygments_lexer": "ipython3",
   "version": "3.12.4"
  }
 },
 "nbformat": 4,
 "nbformat_minor": 5
}
